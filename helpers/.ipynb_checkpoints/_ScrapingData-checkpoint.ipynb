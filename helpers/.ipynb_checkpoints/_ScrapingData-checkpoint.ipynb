{
 "cells": [
  {
   "cell_type": "markdown",
   "metadata": {},
   "source": [
    "## scraping les donnes (reviews des livres et les categories des livres)"
   ]
  },
  {
   "cell_type": "markdown",
   "metadata": {},
   "source": [
    "# script pour scrapper les donnees  "
   ]
  },
  {
   "cell_type": "code",
   "execution_count": 1,
   "metadata": {},
   "outputs": [],
   "source": [
    "import pandas as pd\n",
    "from bs4 import BeautifulSoup as bt\n",
    "import time as t\n",
    "import re\n",
    "from lxml import html\n",
    "import selenium\n",
    "import time as t\n",
    "from selenium import webdriver\n",
    "from webdriver_manager.chrome import ChromeDriverManager\n",
    "from selenium.common.exceptions import ElementClickInterceptedException\n",
    "import pymongo"
   ]
  },
  {
   "cell_type": "code",
   "execution_count": 2,
   "metadata": {},
   "outputs": [],
   "source": [
    "import mysql.connector as connection\n",
    "import pandas as pd\n",
    "try:\n",
    "    mydb = connection.connect(host=\"localhost\", database = 'book_system',user=\"ayoub\", passwd=\"ayoubhero\",use_pure=True)\n",
    "    query = \"Select isbn from Document;\"\n",
    "    result_dataFrame = pd.read_sql(query,mydb)\n",
    "    mydb.close() #close the connection\n",
    "except Exception as e:\n",
    "    mydb.close()\n",
    "    print(str(e))"
   ]
  },
  {
   "cell_type": "code",
   "execution_count": 3,
   "metadata": {},
   "outputs": [
    {
     "data": {
      "text/plain": [
       "isbn    18163\n",
       "dtype: int64"
      ]
     },
     "execution_count": 3,
     "metadata": {},
     "output_type": "execute_result"
    }
   ],
   "source": [
    "result_dataFrame.isnull().sum()"
   ]
  },
  {
   "cell_type": "code",
   "execution_count": 4,
   "metadata": {},
   "outputs": [
    {
     "data": {
      "text/plain": [
       "isbn    0\n",
       "dtype: int64"
      ]
     },
     "execution_count": 4,
     "metadata": {},
     "output_type": "execute_result"
    }
   ],
   "source": [
    "result_dataFrame.dropna(inplace=True)\n",
    "result_dataFrame.isnull().sum()"
   ]
  },
  {
   "cell_type": "code",
   "execution_count": 5,
   "metadata": {},
   "outputs": [
    {
     "name": "stderr",
     "output_type": "stream",
     "text": [
      "\n",
      "\n",
      "====== WebDriver manager ======\n",
      "Current google-chrome version is 91.0.4472\n",
      "Get LATEST driver version for 91.0.4472\n",
      "Get LATEST driver version for 91.0.4472\n",
      "Trying to download new driver from https://chromedriver.storage.googleapis.com/91.0.4472.101/chromedriver_linux64.zip\n",
      "Driver has been saved in cache [/home/ay/.wdm/drivers/chromedriver/linux64/91.0.4472.101]\n",
      "<ipython-input-5-542889ae2b36>:7: DeprecationWarning: use options instead of chrome_options\n",
      "  driver = webdriver.Chrome(ChromeDriverManager().install(), chrome_options=options)\n"
     ]
    }
   ],
   "source": [
    "\n",
    "options = webdriver.ChromeOptions()\n",
    "options.add_argument('headless')\n",
    "options.add_argument('window-size=1920x1080')\n",
    "options.add_argument(\"disable-gpu\")\n",
    "\n",
    "#OR options.add_argument(\"--disable-gpu\")\n",
    "driver = webdriver.Chrome(ChromeDriverManager().install(), chrome_options=options)\n",
    "# driver = webdriver.Chrome(ChromeDriverManager().install())"
   ]
  },
  {
   "cell_type": "code",
   "execution_count": 6,
   "metadata": {},
   "outputs": [],
   "source": [
    "def info_Book(ID, ISBN, title, author, pulisher, date_pub, count_rating, count_review, description, count_page, Genres, average_rating):\n",
    "    dic_book = dict()\n",
    "    dic_book['ID']          = ID\n",
    "    dic_book['ISBN']        = ISBN\n",
    "    dic_book['title']       = title\n",
    "    dic_book['author']      = author\n",
    "    dic_book['pulisher']    = pulisher\n",
    "    dic_book['date_pub']    = date_pub\n",
    "    dic_book['count_rating']= count_rating\n",
    "    dic_book['count_review']= count_review\n",
    "    dic_book['description'] = description\n",
    "    dic_book['count_page']  = count_page\n",
    "    dic_book['Genres']              = Genres\n",
    "    dic_book['average_rating']      = average_rating\n",
    "    return dic_book\n"
   ]
  },
  {
   "cell_type": "code",
   "execution_count": null,
   "metadata": {},
   "outputs": [],
   "source": []
  },
  {
   "cell_type": "code",
   "execution_count": 7,
   "metadata": {},
   "outputs": [],
   "source": []
  },
  {
   "cell_type": "code",
   "execution_count": 8,
   "metadata": {},
   "outputs": [],
   "source": []
  },
  {
   "cell_type": "code",
   "execution_count": 7,
   "metadata": {},
   "outputs": [],
   "source": [
    "# la partie connecxion avec la base de donnee\n",
    "myclient = pymongo.MongoClient(\"mongodb://localhost:27017/\")\n",
    "mydb = myclient[\"SytemRecommandation\"]\n",
    "mycol = mydb[\"books_iferu\"]"
   ]
  },
  {
   "cell_type": "code",
   "execution_count": 83,
   "metadata": {},
   "outputs": [],
   "source": [
    "not_saved = []\n",
    "k=0\n",
    "def get_Data(ISBN):\n",
    "    search_url=\"https://www.goodreads.com/search?utf8=%E2%9C%93&query={query}\"\n",
    "    driver.get(search_url.format(query=ISBN))\n",
    "    global k\n",
    "    if k == 0:\n",
    "        t.sleep(5)\n",
    "    k+=1\n",
    "    try:\n",
    "        button_close = driver.find_element_by_xpath('/html/body/div[3]/div/div/div[1]/button')\n",
    "        button_close.click()\n",
    "    except:\n",
    "        pass\n",
    "    try:\n",
    "        read_more = driver.find_element_by_xpath('//*[@id=\"description\"]/a')\n",
    "        read_more.click()\n",
    "    except:\n",
    "        pass\n",
    "    try:\n",
    "        get_details_book = driver.find_element_by_xpath('//*[@id=\"bookDataBoxShow\"]')\n",
    "        get_details_book.click()\n",
    "    except:\n",
    "        pass\n",
    "    page = driver.page_source\n",
    "    soup = bt(page)\n",
    "    tree = html.fromstring(page)\n",
    "    \n",
    "    # first part all inormations about book\n",
    "    try:\n",
    "        ID = re.findall('[0-9]+', driver.current_url)[0]\n",
    "\n",
    "        ISBN = ISBN\n",
    "        title = re.sub('\\s+', ' ',tree.xpath('//*[@id=\"bookTitle\"]/text()')[0].replace(\"\\n\", ''))\n",
    "        author  = tree.xpath('//*[@id=\"bookAuthors\"]/span[2]/div/a/span/text()')[0]\n",
    "        pulisher = re.sub('\\s+', ' ', tree.xpath('//*[@id=\"details\"]/div[2]/text()')[0].split('\\n')[3])\n",
    "        date_pub = re.sub('\\s+', ' ', tree.xpath('//*[@id=\"details\"]/div[2]/text()')[0].split('\\n')[2])\n",
    "\n",
    "        # ratingCount -------------------------------------------------------------------------\n",
    "        count_rating = soup.find('meta', {'itemprop': \"ratingCount\"})\n",
    "        if type(count_rating) != 'NoneType':\n",
    "            count_rating = soup.find('meta', {'itemprop': \"ratingCount\"})['content']\n",
    "        else:\n",
    "            count_rating = 0\n",
    "        # --------------------------------------------------------------------------------------\n",
    "        # reviewCount -------------------------------------------------------------------------\n",
    "        count_review = soup.find('meta', {'itemprop': \"reviewCount\"})\n",
    "        if type(count_review) != 'NoneType':\n",
    "            count_review = soup.find('meta', {'itemprop': \"reviewCount\"})['content']\n",
    "        else:\n",
    "            count_review = 0\n",
    "        # --------------------------------------------------------------------------------------\n",
    "        description = soup.find('div', {'class':'readable stacked'})\n",
    "        if type(description) != 'NoneType':\n",
    "            description = description.text.replace('\\n', ' ')\n",
    "        else:\n",
    "            description = \"\"\n",
    "\n",
    "        C = soup.find('span', {'itemprop':'numberOfPages'})\n",
    "        count_page = 0\n",
    "        if type(C) != 'NoneType':\n",
    "            count_page = re.findall('[0-9]+',C.text)[0]  \n",
    "\n",
    "        genres = []\n",
    "        stacked = soup.findAll('div', {'class':'stacked'})\n",
    "        lenght_ = 0\n",
    "        for elem in stacked:\n",
    "            elements = elem.find('div', {'class':'bigBoxContent containerWithHeaderContent'})\n",
    "            if elements != [] and elements != None:\n",
    "                lenght_ = len(elements.findAll('div', {'class':'elementList'}))\n",
    "        for  i in range(lenght_):\n",
    "            g = dict()\n",
    "            g['gendre'] = tree.xpath('/html/body/div[2]/div[3]/div[1]/div[2]/div[5]/div[6]/div/div[2]/div')[0][i][0][0].text\n",
    "            g['count_users'] = re.sub('\\s+', \" \",tree.xpath('/html/body/div[2]/div[3]/div[1]/div[2]/div[5]/div[6]/div/div[2]/div')[0][i][1][0].text)\n",
    "            genres.append(g)\n",
    "        # average_rating\n",
    "        avgeratings = tree.xpath('/html/body/div[2]/div[3]/div[1]/div[2]/div[4]/div[1]/div[2]/div[2]/span[2]/text()')\n",
    "        if len(avgeratings) == 1:\n",
    "            print(avgeratings[0].replace(\"\\n\",''))\n",
    "        else:\n",
    "            avgeratings = -1\n",
    "        book = info_Book(ID, ISBN, title, author, pulisher, date_pub, count_rating, count_review, description, count_page, genres, avgeratings)\n",
    "        x = mycol.insert_one(book)\n",
    "        print(x)  \n",
    "    except:\n",
    "        not_saved.append(ISBN)\n",
    "        print('errors')"
   ]
  },
  {
   "cell_type": "code",
   "execution_count": 8,
   "metadata": {},
   "outputs": [],
   "source": [
    "# i = 0\n",
    "# for isbn in result_dataFrame['isbn'].values:\n",
    "#     if i>12588:  #6378\n",
    "#         t.sleep(2)\n",
    "#         get_Data(isbn)\n",
    "#     with open('cuurent_position_book.txt', 'w') as f:\n",
    "#         f.write(str(i))\n",
    "#     i+=1"
   ]
  },
  {
   "cell_type": "code",
   "execution_count": 11,
   "metadata": {},
   "outputs": [
    {
     "data": {
      "text/plain": [
       "'/home/ay/Stage/PFE__/Implementaion/pratique'"
      ]
     },
     "execution_count": 11,
     "metadata": {},
     "output_type": "execute_result"
    }
   ],
   "source": [
    "pwd"
   ]
  },
  {
   "cell_type": "code",
   "execution_count": 26,
   "metadata": {},
   "outputs": [
    {
     "name": "stdout",
     "output_type": "stream",
     "text": [
      "12588"
     ]
    }
   ],
   "source": [
    "cat cuurent_position_book.txt"
   ]
  },
  {
   "cell_type": "code",
   "execution_count": null,
   "metadata": {},
   "outputs": [],
   "source": [
    "12588"
   ]
  },
  {
   "cell_type": "code",
   "execution_count": 28,
   "metadata": {},
   "outputs": [
    {
     "data": {
      "text/plain": [
       "22714"
      ]
     },
     "execution_count": 28,
     "metadata": {},
     "output_type": "execute_result"
    }
   ],
   "source": [
    "len(result_dataFrame['isbn'].values)"
   ]
  },
  {
   "cell_type": "code",
   "execution_count": 56,
   "metadata": {},
   "outputs": [],
   "source": [
    "myclient = pymongo.MongoClient(\"mongodb://localhost:27017/\")\n",
    "mydb = myclient[\"SytemRecommandation\"]\n",
    "mycol = mydb[\"books_iferu\"]"
   ]
  },
  {
   "cell_type": "code",
   "execution_count": 9,
   "metadata": {},
   "outputs": [],
   "source": [
    "isb = []\n",
    "for i in mycol.find({'ISBN':\"English\"}, {\"_id\":0, \"title\":1}):\n",
    "    isb.append(i['title'])"
   ]
  },
  {
   "cell_type": "code",
   "execution_count": 11,
   "metadata": {},
   "outputs": [],
   "source": [
    "# isb"
   ]
  },
  {
   "cell_type": "code",
   "execution_count": 12,
   "metadata": {},
   "outputs": [],
   "source": [
    "not_saved = []\n",
    "k=0\n",
    "def get_Data_(ISBN):\n",
    "    search_url=\"https://www.goodreads.com/search?utf8=%E2%9C%93&query={query}\"\n",
    "    driver.get(search_url.format(query=ISBN))\n",
    "    t.sleep(1)\n",
    "    try:\n",
    "        click_titre = driver.find_element_by_xpath('/html/body/div[2]/div[3]/div[1]/div[2]/div[2]/table/tbody/tr/td[2]/a')\n",
    "        click_titre.click()\n",
    "        t.sleep(1)\n",
    "    except:\n",
    "        pass\n",
    "    \n",
    "    try:\n",
    "        button_close = driver.find_element_by_xpath('/html/body/div[3]/div/div/div[1]/button')\n",
    "        button_close.click()\n",
    "    except:\n",
    "        pass\n",
    "    try:\n",
    "        read_more = driver.find_element_by_xpath('//*[@id=\"description\"]/a')\n",
    "        read_more.click()\n",
    "    except:\n",
    "        pass\n",
    "    try:\n",
    "        get_details_book = driver.find_element_by_xpath('//*[@id=\"bookDataBoxShow\"]')\n",
    "        get_details_book.click()\n",
    "    except:\n",
    "        pass\n",
    "        # \n",
    "    t.sleep(1)\n",
    "    page = driver.page_source\n",
    "    soup = bt(page)\n",
    "    tree = html.fromstring(page)\n",
    "    \n",
    "    # first part all inormations about book\n",
    "    try:\n",
    "        ID = re.findall('[0-9]+', driver.current_url)[0]\n",
    "\n",
    "        ISBN =   re.sub(\"\\s+\", \"\", tree.xpath('/html/body/div[2]/div[3]/div[1]/div[2]/div[4]/div[1]/div[2]/div[5]/div[3]/div[1]/div[1]/div[2]/text()')[0].replace('\\n', \"\"))\n",
    "        if len(ISBN) >= 15:\n",
    "            ISBN =    re.sub(\"\\s+\", \"\", tree.xpath('/html/body/div[2]/div[3]/div[1]/div[2]/div[4]/div[1]/div[2]/div[5]/div[3]/div[1]/div[2]/div[2]/text()')[0].replace('\\n', \"\"))\n",
    "        \n",
    "        title = re.sub('\\s+', ' ',tree.xpath('//*[@id=\"bookTitle\"]/text()')[0].replace(\"\\n\", ''))\n",
    "        author  = tree.xpath('//*[@id=\"bookAuthors\"]/span[2]/div/a/span/text()')[0]\n",
    "        pulisher = re.sub('\\s+', ' ', tree.xpath('//*[@id=\"details\"]/div[2]/text()')[0].split('\\n')[3])\n",
    "        date_pub = re.sub('\\s+', ' ', tree.xpath('//*[@id=\"details\"]/div[2]/text()')[0].split('\\n')[2])\n",
    "\n",
    "        # ratingCount -------------------------------------------------------------------------\n",
    "        count_rating = soup.find('meta', {'itemprop': \"ratingCount\"})\n",
    "        if type(count_rating) != 'NoneType':\n",
    "            count_rating = soup.find('meta', {'itemprop': \"ratingCount\"})['content']\n",
    "        else:\n",
    "            count_rating = 0\n",
    "        # --------------------------------------------------------------------------------------\n",
    "        # reviewCount -------------------------------------------------------------------------\n",
    "        count_review = soup.find('meta', {'itemprop': \"reviewCount\"})\n",
    "        if type(count_review) != 'NoneType':\n",
    "            count_review = soup.find('meta', {'itemprop': \"reviewCount\"})['content']\n",
    "        else:\n",
    "            count_review = 0\n",
    "        # --------------------------------------------------------------------------------------\n",
    "        description = soup.find('div', {'class':'readable stacked'})\n",
    "        if type(description) != 'NoneType':\n",
    "            description = description.text.replace('\\n', ' ')\n",
    "        else:\n",
    "            description = \"\"\n",
    "\n",
    "        C = soup.find('span', {'itemprop':'numberOfPages'})\n",
    "        count_page = 0\n",
    "        if type(C) != 'NoneType':\n",
    "            count_page = re.findall('[0-9]+',C.text)[0]  \n",
    "\n",
    "        genres = []\n",
    "        stacked = soup.findAll('div', {'class':'stacked'})\n",
    "        lenght_ = 0\n",
    "        for elem in stacked:\n",
    "            elements = elem.find('div', {'class':'bigBoxContent containerWithHeaderContent'})\n",
    "            if elements != [] and elements != None:\n",
    "                lenght_ = len(elements.findAll('div', {'class':'elementList'}))\n",
    "        for  i in range(lenght_):\n",
    "            g = dict()\n",
    "            g['gendre'] = tree.xpath('/html/body/div[2]/div[3]/div[1]/div[2]/div[5]/div[6]/div/div[2]/div')[0][i][0][0].text\n",
    "            g['count_users'] = re.sub('\\s+', \" \",tree.xpath('/html/body/div[2]/div[3]/div[1]/div[2]/div[5]/div[6]/div/div[2]/div')[0][i][1][0].text)\n",
    "            genres.append(g)\n",
    "        # average_rating\n",
    "        avgeratings = tree.xpath('/html/body/div[2]/div[3]/div[1]/div[2]/div[4]/div[1]/div[2]/div[2]/span[2]/text()')\n",
    "        if len(avgeratings) == 1:\n",
    "            print(avgeratings[0].replace(\"\\n\",''))\n",
    "        else:\n",
    "            avgeratings = -1\n",
    "        book = info_Book(ID, ISBN, title, author, pulisher, date_pub, count_rating, count_review, description, count_page, genres, avgeratings)\n",
    "        x = mycol.insert_one(book)\n",
    "        print(x, ISBN)  \n",
    "    except:\n",
    "        not_saved.append(ISBN)\n",
    "        print('errors')"
   ]
  },
  {
   "cell_type": "code",
   "execution_count": 18,
   "metadata": {},
   "outputs": [
    {
     "name": "stdout",
     "output_type": "stream",
     "text": [
      "  4.03\n",
      "<pymongo.results.InsertOneResult object at 0x7f503b78bf80> 0062135147\n",
      "  4.35\n",
      "<pymongo.results.InsertOneResult object at 0x7f503b3a51c0> 157675944X\n",
      "  3.48\n",
      "<pymongo.results.InsertOneResult object at 0x7f501abc9d40> 0814416373\n",
      "  3.80\n",
      "<pymongo.results.InsertOneResult object at 0x7f503b718240> 1608322440\n",
      "  3.92\n",
      "<pymongo.results.InsertOneResult object at 0x7f5044a4a100> 1118149920\n",
      "  3.53\n",
      "<pymongo.results.InsertOneResult object at 0x7f503b387e40> 0071751939\n",
      "  3.88\n",
      "<pymongo.results.InsertOneResult object at 0x7f503b77c480> 1451611498\n",
      "  3.37\n",
      "<pymongo.results.InsertOneResult object at 0x7f5044ade0c0> 0465019668\n",
      "  3.37\n",
      "<pymongo.results.InsertOneResult object at 0x7f500e51d040> 0465019668\n",
      "  3.00\n",
      "<pymongo.results.InsertOneResult object at 0x7f5044ade9c0> 1567262392\n",
      "  3.48\n",
      "<pymongo.results.InsertOneResult object at 0x7f501aa9fc80> B003N7MT2O\n",
      "  3.71\n",
      "<pymongo.results.InsertOneResult object at 0x7f5044adeb00> 1593156820\n",
      "  3.88\n",
      "<pymongo.results.InsertOneResult object at 0x7f503b018840> 1609940571\n",
      "  3.61\n",
      "<pymongo.results.InsertOneResult object at 0x7f503b626740> 1401937934\n",
      "  3.96\n",
      "<pymongo.results.InsertOneResult object at 0x7f503b4804c0> 0814420206\n",
      "errors\n",
      "  3.37\n",
      "<pymongo.results.InsertOneResult object at 0x7f5044bbabc0> 0465019668\n",
      "  3.71\n",
      "<pymongo.results.InsertOneResult object at 0x7f503b162f00> 1593156820\n",
      "  3.75\n",
      "<pymongo.results.InsertOneResult object at 0x7f5044baa600> 1576753824\n",
      "  3.72\n",
      "<pymongo.results.InsertOneResult object at 0x7f503b43e040> 0749462736\n",
      "  3.70\n",
      "<pymongo.results.InsertOneResult object at 0x7f503b162700> 0071767991\n",
      "  3.79\n",
      "<pymongo.results.InsertOneResult object at 0x7f504496b400> 1610396251\n"
     ]
    },
    {
     "ename": "NoSuchElementException",
     "evalue": "Message: no such element: Unable to locate element: {\"method\":\"xpath\",\"selector\":\"/html/body/div[2]/div[3]/div[1]/div[2]/div[2]/table/tbody/tr/td[2]/a\"}\n  (Session info: headless chrome=91.0.4472.77)\n",
     "output_type": "error",
     "traceback": [
      "\u001b[0;31m---------------------------------------------------------------------------\u001b[0m",
      "\u001b[0;31mNoSuchElementException\u001b[0m                    Traceback (most recent call last)",
      "\u001b[0;32m<ipython-input-18-0a733475abbd>\u001b[0m in \u001b[0;36m<module>\u001b[0;34m\u001b[0m\n\u001b[1;32m      2\u001b[0m \u001b[0;32mfor\u001b[0m \u001b[0mj\u001b[0m \u001b[0;32min\u001b[0m \u001b[0misb\u001b[0m\u001b[0;34m:\u001b[0m\u001b[0;34m\u001b[0m\u001b[0;34m\u001b[0m\u001b[0m\n\u001b[1;32m      3\u001b[0m     \u001b[0;32mif\u001b[0m \u001b[0mi\u001b[0m\u001b[0;34m>\u001b[0m \u001b[0;36m897\u001b[0m\u001b[0;34m:\u001b[0m\u001b[0;34m\u001b[0m\u001b[0;34m\u001b[0m\u001b[0m\n\u001b[0;32m----> 4\u001b[0;31m         \u001b[0mget_Data_\u001b[0m\u001b[0;34m(\u001b[0m\u001b[0mj\u001b[0m\u001b[0;34m)\u001b[0m\u001b[0;34m\u001b[0m\u001b[0;34m\u001b[0m\u001b[0m\n\u001b[0m\u001b[1;32m      5\u001b[0m         \u001b[0;32mwith\u001b[0m \u001b[0mopen\u001b[0m\u001b[0;34m(\u001b[0m\u001b[0;34m'cu_english_book.txt'\u001b[0m\u001b[0;34m,\u001b[0m \u001b[0;34m'w'\u001b[0m\u001b[0;34m)\u001b[0m \u001b[0;32mas\u001b[0m \u001b[0mf\u001b[0m\u001b[0;34m:\u001b[0m\u001b[0;34m\u001b[0m\u001b[0;34m\u001b[0m\u001b[0m\n\u001b[1;32m      6\u001b[0m             \u001b[0mf\u001b[0m\u001b[0;34m.\u001b[0m\u001b[0mwrite\u001b[0m\u001b[0;34m(\u001b[0m\u001b[0mstr\u001b[0m\u001b[0;34m(\u001b[0m\u001b[0mi\u001b[0m\u001b[0;34m)\u001b[0m\u001b[0;34m)\u001b[0m\u001b[0;34m\u001b[0m\u001b[0;34m\u001b[0m\u001b[0m\n",
      "\u001b[0;32m<ipython-input-12-427dba2680a8>\u001b[0m in \u001b[0;36mget_Data_\u001b[0;34m(ISBN)\u001b[0m\n\u001b[1;32m      6\u001b[0m     \u001b[0mt\u001b[0m\u001b[0;34m.\u001b[0m\u001b[0msleep\u001b[0m\u001b[0;34m(\u001b[0m\u001b[0;36m1\u001b[0m\u001b[0;34m)\u001b[0m\u001b[0;34m\u001b[0m\u001b[0;34m\u001b[0m\u001b[0m\n\u001b[1;32m      7\u001b[0m \u001b[0;34m\u001b[0m\u001b[0m\n\u001b[0;32m----> 8\u001b[0;31m     \u001b[0mclick_titre\u001b[0m \u001b[0;34m=\u001b[0m \u001b[0mdriver\u001b[0m\u001b[0;34m.\u001b[0m\u001b[0mfind_element_by_xpath\u001b[0m\u001b[0;34m(\u001b[0m\u001b[0;34m'/html/body/div[2]/div[3]/div[1]/div[2]/div[2]/table/tbody/tr/td[2]/a'\u001b[0m\u001b[0;34m)\u001b[0m\u001b[0;34m\u001b[0m\u001b[0;34m\u001b[0m\u001b[0m\n\u001b[0m\u001b[1;32m      9\u001b[0m     \u001b[0mclick_titre\u001b[0m\u001b[0;34m.\u001b[0m\u001b[0mclick\u001b[0m\u001b[0;34m(\u001b[0m\u001b[0;34m)\u001b[0m\u001b[0;34m\u001b[0m\u001b[0;34m\u001b[0m\u001b[0m\n\u001b[1;32m     10\u001b[0m     \u001b[0mt\u001b[0m\u001b[0;34m.\u001b[0m\u001b[0msleep\u001b[0m\u001b[0;34m(\u001b[0m\u001b[0;36m1\u001b[0m\u001b[0;34m)\u001b[0m\u001b[0;34m\u001b[0m\u001b[0;34m\u001b[0m\u001b[0m\n",
      "\u001b[0;32m~/anaconda3/lib/python3.8/site-packages/selenium/webdriver/remote/webdriver.py\u001b[0m in \u001b[0;36mfind_element_by_xpath\u001b[0;34m(self, xpath)\u001b[0m\n\u001b[1;32m    392\u001b[0m             \u001b[0melement\u001b[0m \u001b[0;34m=\u001b[0m \u001b[0mdriver\u001b[0m\u001b[0;34m.\u001b[0m\u001b[0mfind_element_by_xpath\u001b[0m\u001b[0;34m(\u001b[0m\u001b[0;34m'//div/td[1]'\u001b[0m\u001b[0;34m)\u001b[0m\u001b[0;34m\u001b[0m\u001b[0;34m\u001b[0m\u001b[0m\n\u001b[1;32m    393\u001b[0m         \"\"\"\n\u001b[0;32m--> 394\u001b[0;31m         \u001b[0;32mreturn\u001b[0m \u001b[0mself\u001b[0m\u001b[0;34m.\u001b[0m\u001b[0mfind_element\u001b[0m\u001b[0;34m(\u001b[0m\u001b[0mby\u001b[0m\u001b[0;34m=\u001b[0m\u001b[0mBy\u001b[0m\u001b[0;34m.\u001b[0m\u001b[0mXPATH\u001b[0m\u001b[0;34m,\u001b[0m \u001b[0mvalue\u001b[0m\u001b[0;34m=\u001b[0m\u001b[0mxpath\u001b[0m\u001b[0;34m)\u001b[0m\u001b[0;34m\u001b[0m\u001b[0;34m\u001b[0m\u001b[0m\n\u001b[0m\u001b[1;32m    395\u001b[0m \u001b[0;34m\u001b[0m\u001b[0m\n\u001b[1;32m    396\u001b[0m     \u001b[0;32mdef\u001b[0m \u001b[0mfind_elements_by_xpath\u001b[0m\u001b[0;34m(\u001b[0m\u001b[0mself\u001b[0m\u001b[0;34m,\u001b[0m \u001b[0mxpath\u001b[0m\u001b[0;34m)\u001b[0m\u001b[0;34m:\u001b[0m\u001b[0;34m\u001b[0m\u001b[0;34m\u001b[0m\u001b[0m\n",
      "\u001b[0;32m~/anaconda3/lib/python3.8/site-packages/selenium/webdriver/remote/webdriver.py\u001b[0m in \u001b[0;36mfind_element\u001b[0;34m(self, by, value)\u001b[0m\n\u001b[1;32m    974\u001b[0m                 \u001b[0mby\u001b[0m \u001b[0;34m=\u001b[0m \u001b[0mBy\u001b[0m\u001b[0;34m.\u001b[0m\u001b[0mCSS_SELECTOR\u001b[0m\u001b[0;34m\u001b[0m\u001b[0;34m\u001b[0m\u001b[0m\n\u001b[1;32m    975\u001b[0m                 \u001b[0mvalue\u001b[0m \u001b[0;34m=\u001b[0m \u001b[0;34m'[name=\"%s\"]'\u001b[0m \u001b[0;34m%\u001b[0m \u001b[0mvalue\u001b[0m\u001b[0;34m\u001b[0m\u001b[0;34m\u001b[0m\u001b[0m\n\u001b[0;32m--> 976\u001b[0;31m         return self.execute(Command.FIND_ELEMENT, {\n\u001b[0m\u001b[1;32m    977\u001b[0m             \u001b[0;34m'using'\u001b[0m\u001b[0;34m:\u001b[0m \u001b[0mby\u001b[0m\u001b[0;34m,\u001b[0m\u001b[0;34m\u001b[0m\u001b[0;34m\u001b[0m\u001b[0m\n\u001b[1;32m    978\u001b[0m             'value': value})['value']\n",
      "\u001b[0;32m~/anaconda3/lib/python3.8/site-packages/selenium/webdriver/remote/webdriver.py\u001b[0m in \u001b[0;36mexecute\u001b[0;34m(self, driver_command, params)\u001b[0m\n\u001b[1;32m    319\u001b[0m         \u001b[0mresponse\u001b[0m \u001b[0;34m=\u001b[0m \u001b[0mself\u001b[0m\u001b[0;34m.\u001b[0m\u001b[0mcommand_executor\u001b[0m\u001b[0;34m.\u001b[0m\u001b[0mexecute\u001b[0m\u001b[0;34m(\u001b[0m\u001b[0mdriver_command\u001b[0m\u001b[0;34m,\u001b[0m \u001b[0mparams\u001b[0m\u001b[0;34m)\u001b[0m\u001b[0;34m\u001b[0m\u001b[0;34m\u001b[0m\u001b[0m\n\u001b[1;32m    320\u001b[0m         \u001b[0;32mif\u001b[0m \u001b[0mresponse\u001b[0m\u001b[0;34m:\u001b[0m\u001b[0;34m\u001b[0m\u001b[0;34m\u001b[0m\u001b[0m\n\u001b[0;32m--> 321\u001b[0;31m             \u001b[0mself\u001b[0m\u001b[0;34m.\u001b[0m\u001b[0merror_handler\u001b[0m\u001b[0;34m.\u001b[0m\u001b[0mcheck_response\u001b[0m\u001b[0;34m(\u001b[0m\u001b[0mresponse\u001b[0m\u001b[0;34m)\u001b[0m\u001b[0;34m\u001b[0m\u001b[0;34m\u001b[0m\u001b[0m\n\u001b[0m\u001b[1;32m    322\u001b[0m             response['value'] = self._unwrap_value(\n\u001b[1;32m    323\u001b[0m                 response.get('value', None))\n",
      "\u001b[0;32m~/anaconda3/lib/python3.8/site-packages/selenium/webdriver/remote/errorhandler.py\u001b[0m in \u001b[0;36mcheck_response\u001b[0;34m(self, response)\u001b[0m\n\u001b[1;32m    240\u001b[0m                 \u001b[0malert_text\u001b[0m \u001b[0;34m=\u001b[0m \u001b[0mvalue\u001b[0m\u001b[0;34m[\u001b[0m\u001b[0;34m'alert'\u001b[0m\u001b[0;34m]\u001b[0m\u001b[0;34m.\u001b[0m\u001b[0mget\u001b[0m\u001b[0;34m(\u001b[0m\u001b[0;34m'text'\u001b[0m\u001b[0;34m)\u001b[0m\u001b[0;34m\u001b[0m\u001b[0;34m\u001b[0m\u001b[0m\n\u001b[1;32m    241\u001b[0m             \u001b[0;32mraise\u001b[0m \u001b[0mexception_class\u001b[0m\u001b[0;34m(\u001b[0m\u001b[0mmessage\u001b[0m\u001b[0;34m,\u001b[0m \u001b[0mscreen\u001b[0m\u001b[0;34m,\u001b[0m \u001b[0mstacktrace\u001b[0m\u001b[0;34m,\u001b[0m \u001b[0malert_text\u001b[0m\u001b[0;34m)\u001b[0m\u001b[0;34m\u001b[0m\u001b[0;34m\u001b[0m\u001b[0m\n\u001b[0;32m--> 242\u001b[0;31m         \u001b[0;32mraise\u001b[0m \u001b[0mexception_class\u001b[0m\u001b[0;34m(\u001b[0m\u001b[0mmessage\u001b[0m\u001b[0;34m,\u001b[0m \u001b[0mscreen\u001b[0m\u001b[0;34m,\u001b[0m \u001b[0mstacktrace\u001b[0m\u001b[0;34m)\u001b[0m\u001b[0;34m\u001b[0m\u001b[0;34m\u001b[0m\u001b[0m\n\u001b[0m\u001b[1;32m    243\u001b[0m \u001b[0;34m\u001b[0m\u001b[0m\n\u001b[1;32m    244\u001b[0m     \u001b[0;32mdef\u001b[0m \u001b[0m_value_or_default\u001b[0m\u001b[0;34m(\u001b[0m\u001b[0mself\u001b[0m\u001b[0;34m,\u001b[0m \u001b[0mobj\u001b[0m\u001b[0;34m,\u001b[0m \u001b[0mkey\u001b[0m\u001b[0;34m,\u001b[0m \u001b[0mdefault\u001b[0m\u001b[0;34m)\u001b[0m\u001b[0;34m:\u001b[0m\u001b[0;34m\u001b[0m\u001b[0;34m\u001b[0m\u001b[0m\n",
      "\u001b[0;31mNoSuchElementException\u001b[0m: Message: no such element: Unable to locate element: {\"method\":\"xpath\",\"selector\":\"/html/body/div[2]/div[3]/div[1]/div[2]/div[2]/table/tbody/tr/td[2]/a\"}\n  (Session info: headless chrome=91.0.4472.77)\n"
     ]
    }
   ],
   "source": [
    "i=0\n",
    "for j in isb:\n",
    "    if i> 919:\n",
    "        get_Data_(j)\n",
    "        with open('cu_english_book.txt', 'w') as f:\n",
    "            f.write(str(i))\n",
    "    i+=1"
   ]
  },
  {
   "cell_type": "code",
   "execution_count": 19,
   "metadata": {},
   "outputs": [
    {
     "name": "stdout",
     "output_type": "stream",
     "text": [
      "919"
     ]
    }
   ],
   "source": [
    "cat cu_english_book.txt"
   ]
  },
  {
   "cell_type": "code",
   "execution_count": null,
   "metadata": {},
   "outputs": [],
   "source": []
  },
  {
   "cell_type": "code",
   "execution_count": null,
   "metadata": {},
   "outputs": [],
   "source": []
  },
  {
   "cell_type": "code",
   "execution_count": null,
   "metadata": {},
   "outputs": [],
   "source": []
  },
  {
   "cell_type": "code",
   "execution_count": null,
   "metadata": {},
   "outputs": [],
   "source": []
  },
  {
   "cell_type": "code",
   "execution_count": null,
   "metadata": {},
   "outputs": [],
   "source": []
  }
 ],
 "metadata": {
  "kernelspec": {
   "display_name": "Python 3.8.3 64-bit ('base': conda)",
   "language": "python",
   "name": "python383jvsc74a57bd0c8756479382c96498a97c8f61b593f2326b15d1739a829ad32fc9d6ddbd7d0ee"
  },
  "language_info": {
   "codemirror_mode": {
    "name": "ipython",
    "version": 3
   },
   "file_extension": ".py",
   "mimetype": "text/x-python",
   "name": "python",
   "nbconvert_exporter": "python",
   "pygments_lexer": "ipython3",
   "version": "3.8.3"
  }
 },
 "nbformat": 4,
 "nbformat_minor": 4
}
