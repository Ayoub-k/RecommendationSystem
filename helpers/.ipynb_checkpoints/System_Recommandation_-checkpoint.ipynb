{
 "cells": [
  {
   "cell_type": "markdown",
   "metadata": {},
   "source": [
    "# System de recommandation "
   ]
  },
  {
   "cell_type": "markdown",
   "metadata": {},
   "source": [
    "## dans cette section je vais preparer la data\n",
    "- chargement des donnees \n",
    "- l'expolration \n",
    "- feature and extraction\n"
   ]
  },
  {
   "cell_type": "code",
   "execution_count": 12,
   "metadata": {},
   "outputs": [],
   "source": [
    "import pymongo \n",
    "import pandas as pd\n",
    "import matplotlib.pyplot as plt \n",
    "import numpy as np"
   ]
  },
  {
   "cell_type": "code",
   "execution_count": 3,
   "metadata": {},
   "outputs": [],
   "source": [
    "# je vais connecter a la base de donnee pour charger les donnees des livres et je vais les concater avec autre dataset"
   ]
  },
  {
   "cell_type": "code",
   "execution_count": null,
   "metadata": {},
   "outputs": [],
   "source": [
    "myclient = pymongo.MongoClient(\"mongodb://localhost:27017/\")\n",
    "mydb = myclient[\"SytemRecommandation\"]\n",
    "mycol = mydb[\"books\"]"
   ]
  },
  {
   "cell_type": "code",
   "execution_count": null,
   "metadata": {},
   "outputs": [],
   "source": [
    "i = 0\n",
    "books = []\n",
    "for x in mycol.find({},{'_id':0, 'Genres':0}):\n",
    "    books.append(x)"
   ]
  },
  {
   "cell_type": "code",
   "execution_count": null,
   "metadata": {},
   "outputs": [],
   "source": [
    "df_books = pd.DataFrame(books,columns=['ID', 'ISBN', 'title', 'author', 'pulisher', 'date_pub', 'count_rating', 'count_review', 'description', 'count_page'])"
   ]
  },
  {
   "cell_type": "code",
   "execution_count": null,
   "metadata": {},
   "outputs": [],
   "source": [
    "df_books"
   ]
  },
  {
   "cell_type": "code",
   "execution_count": 18,
   "metadata": {},
   "outputs": [],
   "source": [
    "# je vais charger les genres des livres apres je vais concater la data"
   ]
  },
  {
   "cell_type": "code",
   "execution_count": 19,
   "metadata": {},
   "outputs": [],
   "source": [
    "mycol_ = mydb[\"genres_book\"]"
   ]
  },
  {
   "cell_type": "code",
   "execution_count": 50,
   "metadata": {},
   "outputs": [],
   "source": [
    "i = 0\n",
    "genres_books = []\n",
    "for x in mycol_.find({},{'_id':0}):\n",
    "    genres_books.append(x)"
   ]
  },
  {
   "cell_type": "code",
   "execution_count": 55,
   "metadata": {},
   "outputs": [],
   "source": [
    "df_genres_books = pd.DataFrame(genres_books, columns=['book_id', 'genres'])"
   ]
  },
  {
   "cell_type": "code",
   "execution_count": 56,
   "metadata": {},
   "outputs": [
    {
     "data": {
      "text/html": [
       "<div>\n",
       "<style scoped>\n",
       "    .dataframe tbody tr th:only-of-type {\n",
       "        vertical-align: middle;\n",
       "    }\n",
       "\n",
       "    .dataframe tbody tr th {\n",
       "        vertical-align: top;\n",
       "    }\n",
       "\n",
       "    .dataframe thead th {\n",
       "        text-align: right;\n",
       "    }\n",
       "</style>\n",
       "<table border=\"1\" class=\"dataframe\">\n",
       "  <thead>\n",
       "    <tr style=\"text-align: right;\">\n",
       "      <th></th>\n",
       "      <th>book_id</th>\n",
       "      <th>genres</th>\n",
       "    </tr>\n",
       "  </thead>\n",
       "  <tbody>\n",
       "    <tr>\n",
       "      <th>0</th>\n",
       "      <td>1333909</td>\n",
       "      <td>{'fiction': 219, 'history, historical fiction,...</td>\n",
       "    </tr>\n",
       "    <tr>\n",
       "      <th>1</th>\n",
       "      <td>34883016</td>\n",
       "      <td>{'romance': 3}</td>\n",
       "    </tr>\n",
       "    <tr>\n",
       "      <th>2</th>\n",
       "      <td>287149</td>\n",
       "      <td>{'non-fiction': 24, 'history, historical ficti...</td>\n",
       "    </tr>\n",
       "    <tr>\n",
       "      <th>3</th>\n",
       "      <td>6066814</td>\n",
       "      <td>{'fiction': 19, 'history, historical fiction, ...</td>\n",
       "    </tr>\n",
       "    <tr>\n",
       "      <th>4</th>\n",
       "      <td>6066812</td>\n",
       "      <td>{'fantasy, paranormal': 32, 'young-adult': 8, ...</td>\n",
       "    </tr>\n",
       "    <tr>\n",
       "      <th>...</th>\n",
       "      <td>...</td>\n",
       "      <td>...</td>\n",
       "    </tr>\n",
       "    <tr>\n",
       "      <th>2360650</th>\n",
       "      <td>2685097</td>\n",
       "      <td>{'romance': 10}</td>\n",
       "    </tr>\n",
       "    <tr>\n",
       "      <th>2360651</th>\n",
       "      <td>26168430</td>\n",
       "      <td>{'mystery, thriller, crime': 4, 'children': 1,...</td>\n",
       "    </tr>\n",
       "    <tr>\n",
       "      <th>2360652</th>\n",
       "      <td>2342551</td>\n",
       "      <td>{'poetry': 14, 'children': 7, 'young-adult': 1...</td>\n",
       "    </tr>\n",
       "    <tr>\n",
       "      <th>2360653</th>\n",
       "      <td>18069148</td>\n",
       "      <td>{'romance': 1}</td>\n",
       "    </tr>\n",
       "    <tr>\n",
       "      <th>2360654</th>\n",
       "      <td>30244126</td>\n",
       "      <td>{'romance': 80, 'fiction': 82, 'history, histo...</td>\n",
       "    </tr>\n",
       "  </tbody>\n",
       "</table>\n",
       "<p>2360655 rows × 2 columns</p>\n",
       "</div>"
      ],
      "text/plain": [
       "          book_id                                             genres\n",
       "0         1333909  {'fiction': 219, 'history, historical fiction,...\n",
       "1        34883016                                     {'romance': 3}\n",
       "2          287149  {'non-fiction': 24, 'history, historical ficti...\n",
       "3         6066814  {'fiction': 19, 'history, historical fiction, ...\n",
       "4         6066812  {'fantasy, paranormal': 32, 'young-adult': 8, ...\n",
       "...           ...                                                ...\n",
       "2360650   2685097                                    {'romance': 10}\n",
       "2360651  26168430  {'mystery, thriller, crime': 4, 'children': 1,...\n",
       "2360652   2342551  {'poetry': 14, 'children': 7, 'young-adult': 1...\n",
       "2360653  18069148                                     {'romance': 1}\n",
       "2360654  30244126  {'romance': 80, 'fiction': 82, 'history, histo...\n",
       "\n",
       "[2360655 rows x 2 columns]"
      ]
     },
     "execution_count": 56,
     "metadata": {},
     "output_type": "execute_result"
    }
   ],
   "source": [
    "df_genres_books"
   ]
  },
  {
   "cell_type": "code",
   "execution_count": null,
   "metadata": {},
   "outputs": [],
   "source": [
    "for i in range(len(df_genres_books['genres'].values)):\n",
    "    df_genres_books.loc[i, 'genres'] = \" \".join(set(list(df_genres_books['genres'][i])))"
   ]
  },
  {
   "cell_type": "code",
   "execution_count": 54,
   "metadata": {},
   "outputs": [
    {
     "data": {
      "text/html": [
       "<div>\n",
       "<style scoped>\n",
       "    .dataframe tbody tr th:only-of-type {\n",
       "        vertical-align: middle;\n",
       "    }\n",
       "\n",
       "    .dataframe tbody tr th {\n",
       "        vertical-align: top;\n",
       "    }\n",
       "\n",
       "    .dataframe thead th {\n",
       "        text-align: right;\n",
       "    }\n",
       "</style>\n",
       "<table border=\"1\" class=\"dataframe\">\n",
       "  <thead>\n",
       "    <tr style=\"text-align: right;\">\n",
       "      <th></th>\n",
       "      <th>book_id</th>\n",
       "      <th>genres</th>\n",
       "    </tr>\n",
       "  </thead>\n",
       "  <tbody>\n",
       "    <tr>\n",
       "      <th>0</th>\n",
       "      <td>1333909</td>\n",
       "      <td>history, historical fiction, biography fiction</td>\n",
       "    </tr>\n",
       "    <tr>\n",
       "      <th>1</th>\n",
       "      <td>34883016</td>\n",
       "      <td>romance</td>\n",
       "    </tr>\n",
       "    <tr>\n",
       "      <th>2</th>\n",
       "      <td>287149</td>\n",
       "      <td>history, historical fiction, biography non-fic...</td>\n",
       "    </tr>\n",
       "    <tr>\n",
       "      <th>3</th>\n",
       "      <td>6066814</td>\n",
       "      <td>history, historical fiction, biography fiction...</td>\n",
       "    </tr>\n",
       "    <tr>\n",
       "      <th>4</th>\n",
       "      <td>6066812</td>\n",
       "      <td>fantasy, paranormal young-adult children fiction</td>\n",
       "    </tr>\n",
       "    <tr>\n",
       "      <th>...</th>\n",
       "      <td>...</td>\n",
       "      <td>...</td>\n",
       "    </tr>\n",
       "    <tr>\n",
       "      <th>2360650</th>\n",
       "      <td>2685097</td>\n",
       "      <td>{'romance': 10}</td>\n",
       "    </tr>\n",
       "    <tr>\n",
       "      <th>2360651</th>\n",
       "      <td>26168430</td>\n",
       "      <td>{'mystery, thriller, crime': 4, 'children': 1,...</td>\n",
       "    </tr>\n",
       "    <tr>\n",
       "      <th>2360652</th>\n",
       "      <td>2342551</td>\n",
       "      <td>{'poetry': 14, 'children': 7, 'young-adult': 1...</td>\n",
       "    </tr>\n",
       "    <tr>\n",
       "      <th>2360653</th>\n",
       "      <td>18069148</td>\n",
       "      <td>{'romance': 1}</td>\n",
       "    </tr>\n",
       "    <tr>\n",
       "      <th>2360654</th>\n",
       "      <td>30244126</td>\n",
       "      <td>{'romance': 80, 'fiction': 82, 'history, histo...</td>\n",
       "    </tr>\n",
       "  </tbody>\n",
       "</table>\n",
       "<p>2360655 rows × 2 columns</p>\n",
       "</div>"
      ],
      "text/plain": [
       "          book_id                                             genres\n",
       "0         1333909     history, historical fiction, biography fiction\n",
       "1        34883016                                            romance\n",
       "2          287149  history, historical fiction, biography non-fic...\n",
       "3         6066814  history, historical fiction, biography fiction...\n",
       "4         6066812   fantasy, paranormal young-adult children fiction\n",
       "...           ...                                                ...\n",
       "2360650   2685097                                    {'romance': 10}\n",
       "2360651  26168430  {'mystery, thriller, crime': 4, 'children': 1,...\n",
       "2360652   2342551  {'poetry': 14, 'children': 7, 'young-adult': 1...\n",
       "2360653  18069148                                     {'romance': 1}\n",
       "2360654  30244126  {'romance': 80, 'fiction': 82, 'history, histo...\n",
       "\n",
       "[2360655 rows x 2 columns]"
      ]
     },
     "execution_count": 54,
     "metadata": {},
     "output_type": "execute_result"
    }
   ],
   "source": [
    "df_genres_books"
   ]
  },
  {
   "cell_type": "code",
   "execution_count": null,
   "metadata": {},
   "outputs": [],
   "source": []
  }
 ],
 "metadata": {
  "kernelspec": {
   "display_name": "Python 3.8.3 64-bit ('base': conda)",
   "language": "python",
   "name": "python383jvsc74a57bd0c8756479382c96498a97c8f61b593f2326b15d1739a829ad32fc9d6ddbd7d0ee"
  },
  "language_info": {
   "codemirror_mode": {
    "name": "ipython",
    "version": 3
   },
   "file_extension": ".py",
   "mimetype": "text/x-python",
   "name": "python",
   "nbconvert_exporter": "python",
   "pygments_lexer": "ipython3",
   "version": "3.8.3"
  }
 },
 "nbformat": 4,
 "nbformat_minor": 4
}
